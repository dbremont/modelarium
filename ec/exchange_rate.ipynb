{
 "cells": [
  {
   "cell_type": "markdown",
   "metadata": {},
   "source": [
    "# Exchange Rates"
   ]
  },
  {
   "cell_type": "markdown",
   "metadata": {},
   "source": [
    "..."
   ]
  },
  {
   "cell_type": "markdown",
   "metadata": {},
   "source": [
    "## References"
   ]
  },
  {
   "cell_type": "markdown",
   "metadata": {},
   "source": [
    "- [Currency Exchange Rates](https://www.kaggle.com/datasets/thebasss/currency-exchange-rates/code)\n",
    "- [USA / EUR Foreign Exchange Rate since 1999](https://datahub.io/core/exchange-rates)\n",
    "- [Foreign Exchange Rates 2000-2019](https://www.kaggle.com/datasets/brunotly/foreign-exchange-rates-per-dollar-20002019/code)\n",
    "- [Foreign-Exchange-Rate-Time-Series-Data-science-Project](https://github.com/bala-1409/Foreign-Exchange-Rate-Time-Series-Data-science-Project/tree/main)"
   ]
  }
 ],
 "metadata": {
  "language_info": {
   "name": "python"
  }
 },
 "nbformat": 4,
 "nbformat_minor": 2
}
